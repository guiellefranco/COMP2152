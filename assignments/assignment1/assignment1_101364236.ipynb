{
 "cells": [
  {
   "cell_type": "code",
   "execution_count": null,
   "metadata": {
    "vscode": {
     "languageId": "plaintext"
    }
   },
   "outputs": [],
   "source": [
    "'''\n",
    "Author: Khaila Franco\n",
    "Assignment #1\n",
    "'''\n",
    "\n",
    "# Variable declarations with data type comments\n",
    "gym_member = \"Alex Alliton\"  # str\n",
    "preferred_weight_kg = 20.5  # float\n",
    "highest_reps = 25  # int\n",
    "membership_active = True  # bool\n",
    "\n",
    "# Dictionary to store workout statistics (data type: dict[str, tuple[int, int, int]])\n",
    "workout_stats = {\n",
    "    \"Judah\": (30, 55, 20),\n",
    "    \"Alexander\": (40, 35, 25),\n",
    "    \"Ethan\": (25, 50, 30)\n",
    "}\n",
    "\n",
    "# Calculate total workout minutes for each friend\n",
    "new_entries = {}\n",
    "for friend, minutes in workout_stats.items():\n",
    "    total_minutes = sum(minutes)\n",
    "    new_entries[f\"{friend}_Total\"] = total_minutes\n",
    "\n",
    "# Update dictionary after the loop\n",
    "workout_stats.update(new_entries)\n",
    "\n",
    "# Create a 2D list (nested list) of workout minutes (data type: list[list[int]])\n",
    "workout_list = [list(minutes) for friend, minutes in workout_stats.items() if not friend.endswith(\"_Total\")]\n",
    "\n",
    "# Slice and print specific workout minutes\n",
    "print(\"Yoga and running minutes:\", [row[:2] for row in workout_list])\n",
    "print(\"Weightlifting minutes (last two friends):\", [row[2] for row in workout_list[-2:]])\n",
    "\n",
    "# Check if any friend worked out for 120 minutes or more\n",
    "for friend in workout_stats:\n",
    "    if not friend.endswith(\"_Total\") and workout_stats[f\"{friend}_Total\"] >= 120:\n",
    "        print(f\"Great job staying active, {friend}!\")\n",
    "\n",
    "# User input to check workout stats\n",
    "friend_name = input(\"Enter a friend's name: \")\n",
    "if friend_name in workout_stats and not friend_name.endswith(\"_Total\"):\n",
    "    yoga, running, weightlifting = workout_stats[friend_name]\n",
    "    total = workout_stats[f\"{friend_name}_Total\"]\n",
    "    print(f\"{friend_name}'s Workout Minutes - Yoga: {yoga}, Running: {running}, Weightlifting: {weightlifting}, Total: {total}\")\n",
    "else:\n",
    "    print(f\"Friend {friend_name} not found in the records.\")\n",
    "\n",
    "# Finding the friend with highest and lowest total workout minutes\n",
    "total_minutes_dict = {friend: total for friend, total in workout_stats.items() if friend.endswith(\"_Total\")}\n",
    "highest_friend = max(total_minutes_dict, key=total_minutes_dict.get).replace(\"_Total\", \"\")\n",
    "lowest_friend = min(total_minutes_dict, key=total_minutes_dict.get).replace(\"_Total\", \"\")\n",
    "\n",
    "print(f\"Friend with the highest total workout minutes: {highest_friend}\")\n",
    "print(f\"Friend with the lowest total workout minutes: {lowest_friend}\")"
   ]
  }
 ],
 "metadata": {
  "language_info": {
   "name": "python"
  }
 },
 "nbformat": 4,
 "nbformat_minor": 2
}
